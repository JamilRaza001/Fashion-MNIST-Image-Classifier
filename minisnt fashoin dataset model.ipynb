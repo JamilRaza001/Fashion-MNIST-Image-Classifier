{
  "cells": [
    {
      "cell_type": "code",
      "execution_count": 1,
      "metadata": {
        "id": "6x0nlkgjIWed"
      },
      "outputs": [],
      "source": [
        "from tensorflow.keras.datasets import fashion_mnist"
      ]
    },
    {
      "cell_type": "code",
      "execution_count": 2,
      "metadata": {
        "id": "8HjSsOjeanZv"
      },
      "outputs": [],
      "source": [
        "(train_images,train_labels), (test_images,test_labels) = fashion_mnist.load_data()"
      ]
    },
    {
      "cell_type": "code",
      "execution_count": 3,
      "metadata": {
        "colab": {
          "base_uri": "https://localhost:8080/"
        },
        "id": "PGsx65DUbWaT",
        "outputId": "72d38d08-f4e7-4169-ed50-e4df9baf6ed5"
      },
      "outputs": [
        {
          "data": {
            "text/plain": [
              "(60000, 28, 28)"
            ]
          },
          "execution_count": 3,
          "metadata": {},
          "output_type": "execute_result"
        }
      ],
      "source": [
        "train_images.shape"
      ]
    },
    {
      "cell_type": "code",
      "execution_count": 4,
      "metadata": {
        "colab": {
          "base_uri": "https://localhost:8080/"
        },
        "id": "2fg3tMU6G4Mx",
        "outputId": "e9b3733e-1f05-4918-9ba8-9322773f53d7"
      },
      "outputs": [
        {
          "data": {
            "text/plain": [
              "9"
            ]
          },
          "execution_count": 4,
          "metadata": {},
          "output_type": "execute_result"
        }
      ],
      "source": [
        "train_labels[0]"
      ]
    },
    {
      "cell_type": "code",
      "execution_count": 5,
      "metadata": {
        "id": "xRHcRA6tawnh"
      },
      "outputs": [],
      "source": [
        "from tensorflow.keras import models\n",
        "from tensorflow.keras import layers,saving \n",
        "\n",
        "model = models.Sequential(\n",
        "    layers=[\n",
        "        layers.Dense(512,activation='relu'),\n",
        "        layers.Dense(256,activation='relu'),\n",
        "        layers.Dense(128,activation='relu'),\n",
        "        layers.Dense(64,activation='relu'),\n",
        "        layers.Dense(10,activation='softmax')\n",
        "    ]\n",
        ")"
      ]
    },
    {
      "cell_type": "code",
      "execution_count": 6,
      "metadata": {
        "id": "00LtahfmbKiT"
      },
      "outputs": [],
      "source": [
        "model.compile(\n",
        "  optimizer='rmsprop',\n",
        "  loss='sparse_categorical_crossentropy',\n",
        "  metrics=['accuracy']\n",
        ")"
      ]
    },
    {
      "cell_type": "code",
      "execution_count": 7,
      "metadata": {
        "id": "aH8HIlPYbN10"
      },
      "outputs": [],
      "source": [
        "train_images = train_images.reshape((60000,784))\n",
        "train_images = train_images.astype('float32')/255\n",
        "\n",
        "test_images = test_images.reshape((10000,784))\n",
        "test_images = test_images.astype('float32')/255"
      ]
    },
    {
      "cell_type": "code",
      "execution_count": 8,
      "metadata": {
        "colab": {
          "base_uri": "https://localhost:8080/"
        },
        "id": "H5h2iEUIbf1D",
        "outputId": "594eae7b-228e-4fec-a6cb-a58d3fb8698c"
      },
      "outputs": [
        {
          "name": "stdout",
          "output_type": "stream",
          "text": [
            "Epoch 1/32\n",
            "\u001b[1m469/469\u001b[0m \u001b[32m━━━━━━━━━━━━━━━━━━━━\u001b[0m\u001b[37m\u001b[0m \u001b[1m5s\u001b[0m 9ms/step - accuracy: 0.7013 - loss: 0.8306\n",
            "Epoch 2/32\n",
            "\u001b[1m469/469\u001b[0m \u001b[32m━━━━━━━━━━━━━━━━━━━━\u001b[0m\u001b[37m\u001b[0m \u001b[1m4s\u001b[0m 8ms/step - accuracy: 0.8479 - loss: 0.4067\n",
            "Epoch 3/32\n",
            "\u001b[1m469/469\u001b[0m \u001b[32m━━━━━━━━━━━━━━━━━━━━\u001b[0m\u001b[37m\u001b[0m \u001b[1m4s\u001b[0m 9ms/step - accuracy: 0.8712 - loss: 0.3509\n",
            "Epoch 4/32\n",
            "\u001b[1m469/469\u001b[0m \u001b[32m━━━━━━━━━━━━━━━━━━━━\u001b[0m\u001b[37m\u001b[0m \u001b[1m4s\u001b[0m 9ms/step - accuracy: 0.8787 - loss: 0.3229\n",
            "Epoch 5/32\n",
            "\u001b[1m469/469\u001b[0m \u001b[32m━━━━━━━━━━━━━━━━━━━━\u001b[0m\u001b[37m\u001b[0m \u001b[1m4s\u001b[0m 9ms/step - accuracy: 0.8872 - loss: 0.2976\n",
            "Epoch 6/32\n",
            "\u001b[1m469/469\u001b[0m \u001b[32m━━━━━━━━━━━━━━━━━━━━\u001b[0m\u001b[37m\u001b[0m \u001b[1m5s\u001b[0m 10ms/step - accuracy: 0.8914 - loss: 0.2855\n",
            "Epoch 7/32\n",
            "\u001b[1m469/469\u001b[0m \u001b[32m━━━━━━━━━━━━━━━━━━━━\u001b[0m\u001b[37m\u001b[0m \u001b[1m7s\u001b[0m 14ms/step - accuracy: 0.8965 - loss: 0.2720\n",
            "Epoch 8/32\n",
            "\u001b[1m469/469\u001b[0m \u001b[32m━━━━━━━━━━━━━━━━━━━━\u001b[0m\u001b[37m\u001b[0m \u001b[1m7s\u001b[0m 14ms/step - accuracy: 0.9001 - loss: 0.2601\n",
            "Epoch 9/32\n",
            "\u001b[1m469/469\u001b[0m \u001b[32m━━━━━━━━━━━━━━━━━━━━\u001b[0m\u001b[37m\u001b[0m \u001b[1m7s\u001b[0m 14ms/step - accuracy: 0.9053 - loss: 0.2483\n",
            "Epoch 10/32\n",
            "\u001b[1m469/469\u001b[0m \u001b[32m━━━━━━━━━━━━━━━━━━━━\u001b[0m\u001b[37m\u001b[0m \u001b[1m6s\u001b[0m 12ms/step - accuracy: 0.9076 - loss: 0.2403\n",
            "Epoch 11/32\n",
            "\u001b[1m469/469\u001b[0m \u001b[32m━━━━━━━━━━━━━━━━━━━━\u001b[0m\u001b[37m\u001b[0m \u001b[1m6s\u001b[0m 12ms/step - accuracy: 0.9130 - loss: 0.2307\n",
            "Epoch 12/32\n",
            "\u001b[1m469/469\u001b[0m \u001b[32m━━━━━━━━━━━━━━━━━━━━\u001b[0m\u001b[37m\u001b[0m \u001b[1m6s\u001b[0m 12ms/step - accuracy: 0.9151 - loss: 0.2233\n",
            "Epoch 13/32\n",
            "\u001b[1m469/469\u001b[0m \u001b[32m━━━━━━━━━━━━━━━━━━━━\u001b[0m\u001b[37m\u001b[0m \u001b[1m6s\u001b[0m 13ms/step - accuracy: 0.9171 - loss: 0.2189\n",
            "Epoch 14/32\n",
            "\u001b[1m469/469\u001b[0m \u001b[32m━━━━━━━━━━━━━━━━━━━━\u001b[0m\u001b[37m\u001b[0m \u001b[1m4s\u001b[0m 9ms/step - accuracy: 0.9180 - loss: 0.2147\n",
            "Epoch 15/32\n",
            "\u001b[1m469/469\u001b[0m \u001b[32m━━━━━━━━━━━━━━━━━━━━\u001b[0m\u001b[37m\u001b[0m \u001b[1m4s\u001b[0m 9ms/step - accuracy: 0.9194 - loss: 0.2118\n",
            "Epoch 16/32\n",
            "\u001b[1m469/469\u001b[0m \u001b[32m━━━━━━━━━━━━━━━━━━━━\u001b[0m\u001b[37m\u001b[0m \u001b[1m5s\u001b[0m 11ms/step - accuracy: 0.9213 - loss: 0.2122\n",
            "Epoch 17/32\n",
            "\u001b[1m469/469\u001b[0m \u001b[32m━━━━━━━━━━━━━━━━━━━━\u001b[0m\u001b[37m\u001b[0m \u001b[1m5s\u001b[0m 11ms/step - accuracy: 0.9255 - loss: 0.1995\n",
            "Epoch 18/32\n",
            "\u001b[1m469/469\u001b[0m \u001b[32m━━━━━━━━━━━━━━━━━━━━\u001b[0m\u001b[37m\u001b[0m \u001b[1m4s\u001b[0m 9ms/step - accuracy: 0.9229 - loss: 0.2006\n",
            "Epoch 19/32\n",
            "\u001b[1m469/469\u001b[0m \u001b[32m━━━━━━━━━━━━━━━━━━━━\u001b[0m\u001b[37m\u001b[0m \u001b[1m4s\u001b[0m 9ms/step - accuracy: 0.9249 - loss: 0.2010\n",
            "Epoch 20/32\n",
            "\u001b[1m469/469\u001b[0m \u001b[32m━━━━━━━━━━━━━━━━━━━━\u001b[0m\u001b[37m\u001b[0m \u001b[1m5s\u001b[0m 12ms/step - accuracy: 0.9260 - loss: 0.1955\n",
            "Epoch 21/32\n",
            "\u001b[1m469/469\u001b[0m \u001b[32m━━━━━━━━━━━━━━━━━━━━\u001b[0m\u001b[37m\u001b[0m \u001b[1m5s\u001b[0m 11ms/step - accuracy: 0.9266 - loss: 0.1945\n",
            "Epoch 22/32\n",
            "\u001b[1m469/469\u001b[0m \u001b[32m━━━━━━━━━━━━━━━━━━━━\u001b[0m\u001b[37m\u001b[0m \u001b[1m5s\u001b[0m 10ms/step - accuracy: 0.9286 - loss: 0.1904\n",
            "Epoch 23/32\n",
            "\u001b[1m469/469\u001b[0m \u001b[32m━━━━━━━━━━━━━━━━━━━━\u001b[0m\u001b[37m\u001b[0m \u001b[1m5s\u001b[0m 10ms/step - accuracy: 0.9302 - loss: 0.1879\n",
            "Epoch 24/32\n",
            "\u001b[1m469/469\u001b[0m \u001b[32m━━━━━━━━━━━━━━━━━━━━\u001b[0m\u001b[37m\u001b[0m \u001b[1m5s\u001b[0m 10ms/step - accuracy: 0.9314 - loss: 0.1873\n",
            "Epoch 25/32\n",
            "\u001b[1m469/469\u001b[0m \u001b[32m━━━━━━━━━━━━━━━━━━━━\u001b[0m\u001b[37m\u001b[0m \u001b[1m5s\u001b[0m 10ms/step - accuracy: 0.9328 - loss: 0.1833\n",
            "Epoch 26/32\n",
            "\u001b[1m469/469\u001b[0m \u001b[32m━━━━━━━━━━━━━━━━━━━━\u001b[0m\u001b[37m\u001b[0m \u001b[1m5s\u001b[0m 11ms/step - accuracy: 0.9324 - loss: 0.1879\n",
            "Epoch 27/32\n",
            "\u001b[1m469/469\u001b[0m \u001b[32m━━━━━━━━━━━━━━━━━━━━\u001b[0m\u001b[37m\u001b[0m \u001b[1m5s\u001b[0m 10ms/step - accuracy: 0.9327 - loss: 0.1816\n",
            "Epoch 28/32\n",
            "\u001b[1m469/469\u001b[0m \u001b[32m━━━━━━━━━━━━━━━━━━━━\u001b[0m\u001b[37m\u001b[0m \u001b[1m5s\u001b[0m 11ms/step - accuracy: 0.9338 - loss: 0.1819\n",
            "Epoch 29/32\n",
            "\u001b[1m469/469\u001b[0m \u001b[32m━━━━━━━━━━━━━━━━━━━━\u001b[0m\u001b[37m\u001b[0m \u001b[1m5s\u001b[0m 11ms/step - accuracy: 0.9358 - loss: 0.1736\n",
            "Epoch 30/32\n",
            "\u001b[1m469/469\u001b[0m \u001b[32m━━━━━━━━━━━━━━━━━━━━\u001b[0m\u001b[37m\u001b[0m \u001b[1m5s\u001b[0m 10ms/step - accuracy: 0.9347 - loss: 0.1784\n",
            "Epoch 31/32\n",
            "\u001b[1m469/469\u001b[0m \u001b[32m━━━━━━━━━━━━━━━━━━━━\u001b[0m\u001b[37m\u001b[0m \u001b[1m4s\u001b[0m 9ms/step - accuracy: 0.9359 - loss: 0.1785\n",
            "Epoch 32/32\n",
            "\u001b[1m469/469\u001b[0m \u001b[32m━━━━━━━━━━━━━━━━━━━━\u001b[0m\u001b[37m\u001b[0m \u001b[1m4s\u001b[0m 9ms/step - accuracy: 0.9372 - loss: 0.1702\n"
          ]
        },
        {
          "data": {
            "text/plain": [
              "<keras.src.callbacks.history.History at 0x26a723247d0>"
            ]
          },
          "execution_count": 8,
          "metadata": {},
          "output_type": "execute_result"
        }
      ],
      "source": [
        "model.fit(train_images,train_labels,epochs=32,batch_size=128)"
      ]
    },
    {
      "cell_type": "code",
      "execution_count": 9,
      "metadata": {
        "id": "f0aZq0kuby6a"
      },
      "outputs": [],
      "source": [
        "from PIL import Image\n",
        "import numpy as np\n",
        "\n",
        "def prediction(image_path):\n",
        "    # Replace with your image path\n",
        "  image = Image.open(image_path).convert(\"L\")  # Convert to grayscale\n",
        "  image = image.resize((28, 28))  # Resize to match MNIST format\n",
        "  image_array = np.array(image).astype('float32') / 255  # Normalize\n",
        "  image_array = image_array.reshape((1, 784))  # Reshape for model input\n",
        "\n",
        "   # Make prediction\n",
        "  prediction = model.predict(image_array)\n",
        "  predicted_label = np.argmax(prediction)\n",
        "\n",
        "  print(f\"Predicted digit: {predicted_label}\")\n"
      ]
    },
    {
      "cell_type": "code",
      "execution_count": 10,
      "metadata": {
        "colab": {
          "base_uri": "https://localhost:8080/"
        },
        "id": "DwYGL1tcGlbb",
        "outputId": "e90586b0-3928-4f54-81ff-c22274d7d6df"
      },
      "outputs": [
        {
          "name": "stdout",
          "output_type": "stream",
          "text": [
            "\u001b[1m1/1\u001b[0m \u001b[32m━━━━━━━━━━━━━━━━━━━━\u001b[0m\u001b[37m\u001b[0m \u001b[1m0s\u001b[0m 132ms/step\n",
            "Predicted digit: 2\n"
          ]
        }
      ],
      "source": [
        "prediction('download.jpeg')"
      ]
    },
    {
      "cell_type": "code",
      "execution_count": 11,
      "metadata": {
        "colab": {
          "base_uri": "https://localhost:8080/"
        },
        "id": "QBkEsOJ-Hv_I",
        "outputId": "9b0a0729-4277-4aee-c0c4-937d4aff2695"
      },
      "outputs": [
        {
          "name": "stdout",
          "output_type": "stream",
          "text": [
            "found 2 at index 5\n",
            "value: 2\n"
          ]
        }
      ],
      "source": [
        "for idx, value in enumerate(train_labels):\n",
        "    if value == 2:\n",
        "        print(\"found 2 at index\", idx)   # prints the index\n",
        "        print(\"value:\", value)           # prints “2”\n",
        "        break"
      ]
    },
    {
      "cell_type": "code",
      "execution_count": 12,
      "metadata": {
        "colab": {
          "base_uri": "https://localhost:8080/",
          "height": 1000
        },
        "id": "dGHaJN71H7vl",
        "outputId": "5e22efca-5d68-4f4d-9ef8-888b55bd9550"
      },
      "outputs": [
        {
          "name": "stdout",
          "output_type": "stream",
          "text": [
            "Array shape: (28, 28)\n",
            "[[0.         0.         0.         0.         0.00392157 0.\n",
            "  0.         0.         0.         0.08627451 0.34509805 0.7372549\n",
            "  0.6745098  0.5176471  0.49019608 0.5529412  0.78039217 0.56078434\n",
            "  0.03529412 0.         0.         0.         0.00392157 0.\n",
            "  0.         0.         0.         0.        ]\n",
            " [0.         0.         0.         0.00392157 0.         0.\n",
            "  0.07843138 0.5137255  0.78039217 0.80784315 0.76862746 0.7921569\n",
            "  0.9490196  1.         1.         0.98039216 0.87058824 0.77254903\n",
            "  0.80784315 0.7372549  0.49411765 0.06666667 0.         0.\n",
            "  0.         0.         0.         0.        ]\n",
            " [0.         0.         0.         0.00392157 0.         0.13725491\n",
            "  0.8392157  0.7490196  0.7176471  0.69803923 0.6862745  0.65882355\n",
            "  0.5882353  0.63529414 0.62352943 0.59607846 0.61960787 0.7019608\n",
            "  0.7176471  0.7411765  0.7647059  0.7254902  0.32156864 0.\n",
            "  0.         0.         0.         0.        ]\n",
            " [0.         0.         0.         0.         0.         0.6666667\n",
            "  0.74509805 0.6745098  0.69411767 0.6901961  0.67058825 0.6627451\n",
            "  0.63529414 0.60784316 0.5803922  0.6039216  0.6627451  0.68235296\n",
            "  0.6862745  0.6862745  0.69411767 0.7176471  0.7372549  0.04705882\n",
            "  0.         0.         0.         0.        ]\n",
            " [0.         0.         0.         0.         0.09803922 0.7607843\n",
            "  0.7058824  0.69803923 0.68235296 0.72156864 0.73333335 0.7411765\n",
            "  0.73333335 0.72156864 0.70980394 0.7411765  0.78431374 0.77254903\n",
            "  0.75686276 0.74509805 0.69803923 0.6862745  0.7607843  0.3529412\n",
            "  0.         0.         0.         0.        ]\n",
            " [0.         0.         0.         0.         0.16470589 0.85490197\n",
            "  0.7490196  0.77254903 0.8156863  0.8        0.827451   0.81960785\n",
            "  0.8235294  0.83137256 0.827451   0.8392157  0.84313726 0.8352941\n",
            "  0.8392157  0.827451   0.827451   0.7490196  0.78431374 0.61960787\n",
            "  0.         0.         0.         0.        ]\n",
            " [0.         0.         0.         0.         0.34509805 0.8666667\n",
            "  0.84313726 0.8509804  0.85882354 0.827451   0.7254902  0.5882353\n",
            "  0.4627451  0.41960785 0.3882353  0.34509805 0.3254902  0.3529412\n",
            "  0.5294118  0.83137256 0.79607844 0.8117647  0.85882354 0.6627451\n",
            "  0.         0.         0.         0.        ]\n",
            " [0.         0.         0.         0.         0.         0.10588235\n",
            "  0.4627451  0.63529414 0.15686275 0.         0.         0.\n",
            "  0.03921569 0.07450981 0.10980392 0.15294118 0.18431373 0.14117648\n",
            "  0.         0.         0.79607844 0.9019608  0.8627451  0.79607844\n",
            "  0.         0.         0.         0.        ]\n",
            " [0.         0.         0.         0.         0.5411765  0.53333336\n",
            "  0.2784314  0.27058825 0.21176471 0.84705883 0.8509804  0.79607844\n",
            "  0.72156864 0.65882355 0.6392157  0.63529414 0.6392157  0.69803923\n",
            "  0.8666667  0.7294118  0.14901961 0.10196079 0.02745098 0.\n",
            "  0.         0.         0.         0.        ]\n",
            " [0.         0.         0.         0.         0.2627451  0.5254902\n",
            "  0.6039216  0.8784314  0.5058824  0.25882354 0.31764707 0.45882353\n",
            "  0.5058824  0.5019608  0.5176471  0.5372549  0.5137255  0.5058824\n",
            "  0.3372549  0.28627452 0.6156863  0.5921569  0.5254902  0.84705883\n",
            "  0.07058824 0.         0.         0.        ]\n",
            " [0.         0.         0.         0.         0.79607844 0.7764706\n",
            "  0.6745098  0.7176471  0.80784315 1.         1.         0.98039216\n",
            "  0.9529412  0.9411765  0.9372549  0.92156863 0.93333334 0.95686275\n",
            "  1.         0.93333334 0.72156864 0.627451   0.3372549  0.38431373\n",
            "  0.         0.         0.         0.        ]\n",
            " [0.         0.         0.         0.         0.47843137 0.7372549\n",
            "  0.8784314  0.5921569  0.4117647  0.49803922 0.38039216 0.39215687\n",
            "  0.4117647  0.44705883 0.45882353 0.45882353 0.44313726 0.40392157\n",
            "  0.38431373 0.43529412 0.5568628  0.99607843 0.7490196  1.\n",
            "  0.19215687 0.         0.         0.        ]\n",
            " [0.         0.         0.         0.         0.6392157  0.7019608\n",
            "  0.78431374 0.37254903 0.6039216  0.7764706  0.77254903 0.78431374\n",
            "  0.78431374 0.7764706  0.77254903 0.7764706  0.78039217 0.7921569\n",
            "  0.78431374 0.6901961  0.3372549  0.80784315 0.6156863  0.63529414\n",
            "  0.03921569 0.         0.         0.        ]\n",
            " [0.         0.         0.         0.         0.77254903 0.7882353\n",
            "  0.8980392  0.2784314  0.5647059  0.7607843  0.70980394 0.7176471\n",
            "  0.7019608  0.7137255  0.7058824  0.7019608  0.7058824  0.74509805\n",
            "  0.7254902  0.77254903 0.29803923 0.85882354 0.7254902  0.7882353\n",
            "  0.13333334 0.         0.         0.        ]\n",
            " [0.         0.         0.         0.         0.78039217 0.75686276\n",
            "  0.8862745  0.22745098 0.6039216  0.7529412  0.72156864 0.73333335\n",
            "  0.72156864 0.7294118  0.72156864 0.7254902  0.7176471  0.7529412\n",
            "  0.7490196  0.78431374 0.21960784 0.85882354 0.79607844 0.8117647\n",
            "  0.23529412 0.         0.         0.        ]\n",
            " [0.         0.         0.         0.         0.7882353  0.7607843\n",
            "  0.8784314  0.16078432 0.6392157  0.74509805 0.7294118  0.7294118\n",
            "  0.72156864 0.7254902  0.7176471  0.7254902  0.69803923 0.74509805\n",
            "  0.7607843  0.7921569  0.12941177 0.827451   0.78431374 0.80784315\n",
            "  0.28627452 0.         0.         0.        ]\n",
            " [0.         0.         0.         0.         0.7882353  0.77254903\n",
            "  0.87058824 0.06666667 0.6745098  0.74509805 0.7294118  0.73333335\n",
            "  0.7137255  0.7294118  0.7254902  0.73333335 0.7058824  0.73333335\n",
            "  0.75686276 0.7921569  0.10196079 0.83137256 0.7921569  0.79607844\n",
            "  0.29803923 0.         0.         0.        ]\n",
            " [0.         0.         0.         0.         0.78431374 0.77254903\n",
            "  0.8745098  0.         0.69411767 0.7411765  0.72156864 0.7254902\n",
            "  0.69803923 0.72156864 0.7176471  0.72156864 0.7058824  0.7176471\n",
            "  0.7411765  0.79607844 0.13725491 0.76862746 0.79607844 0.79607844\n",
            "  0.32941177 0.         0.         0.        ]\n",
            " [0.         0.         0.         0.         0.78431374 0.77254903\n",
            "  0.8745098  0.         0.7254902  0.73333335 0.7254902  0.73333335\n",
            "  0.7058824  0.72156864 0.7137255  0.7176471  0.69803923 0.7137255\n",
            "  0.7176471  0.8039216  0.17254902 0.62352943 0.8117647  0.7882353\n",
            "  0.33333334 0.         0.         0.        ]\n",
            " [0.         0.         0.         0.         0.73333335 0.7764706\n",
            "  0.88235295 0.         0.7607843  0.7372549  0.72156864 0.7254902\n",
            "  0.7058824  0.7176471  0.7176471  0.72156864 0.70980394 0.70980394\n",
            "  0.69411767 0.80784315 0.18039216 0.5058824  0.827451   0.78431374\n",
            "  0.34509805 0.         0.         0.        ]\n",
            " [0.         0.         0.         0.02352941 0.7294118  0.78431374\n",
            "  0.827451   0.         0.78039217 0.7411765  0.72156864 0.72156864\n",
            "  0.7254902  0.7137255  0.7176471  0.72156864 0.7254902  0.7137255\n",
            "  0.6862745  0.8039216  0.19607843 0.38039216 0.84705883 0.77254903\n",
            "  0.3647059  0.         0.         0.        ]\n",
            " [0.         0.         0.         0.01960784 0.7254902  0.8\n",
            "  0.72156864 0.         0.7921569  0.7372549  0.7137255  0.7137255\n",
            "  0.7176471  0.7176471  0.72156864 0.7137255  0.7058824  0.7137255\n",
            "  0.68235296 0.7921569  0.24705882 0.23137255 0.8627451  0.76862746\n",
            "  0.36862746 0.         0.         0.        ]\n",
            " [0.         0.         0.         0.01960784 0.72156864 0.80784315\n",
            "  0.6156863  0.         0.8        0.73333335 0.73333335 0.7411765\n",
            "  0.7529412  0.74509805 0.74509805 0.7490196  0.74509805 0.73333335\n",
            "  0.7176471  0.7921569  0.30588236 0.13725491 0.87058824 0.77254903\n",
            "  0.37254903 0.         0.         0.        ]\n",
            " [0.         0.         0.         0.01960784 0.7176471  0.8156863\n",
            "  0.49803922 0.         0.77254903 0.6509804  0.6        0.58431375\n",
            "  0.58431375 0.57254905 0.5803922  0.58431375 0.5882353  0.5921569\n",
            "  0.61960787 0.7490196  0.3529412  0.03137255 0.8745098  0.7647059\n",
            "  0.3882353  0.         0.         0.        ]\n",
            " [0.         0.         0.         0.02352941 0.72156864 0.8156863\n",
            "  0.44705883 0.         0.8        0.6784314  0.6313726  0.7058824\n",
            "  0.6901961  0.6745098  0.6784314  0.6784314  0.68235296 0.6901961\n",
            "  0.63529414 0.7921569  0.4509804  0.         0.8980392  0.78039217\n",
            "  0.4117647  0.         0.         0.        ]\n",
            " [0.         0.         0.         0.03529412 0.69803923 0.8\n",
            "  0.4509804  0.         0.4745098  0.5294118  0.44705883 0.45882353\n",
            "  0.44705883 0.44705883 0.45882353 0.4627451  0.46666667 0.45882353\n",
            "  0.44313726 0.5764706  0.24705882 0.         0.88235295 0.76862746\n",
            "  0.41960785 0.         0.         0.        ]\n",
            " [0.         0.         0.         0.07058824 0.7058824  0.80784315\n",
            "  0.5137255  0.         0.         0.         0.         0.\n",
            "  0.         0.         0.         0.         0.         0.\n",
            "  0.         0.         0.         0.         0.8784314  0.77254903\n",
            "  0.48235294 0.         0.         0.        ]\n",
            " [0.         0.         0.         0.         0.5529412  0.5921569\n",
            "  0.29803923 0.         0.00392157 0.00392157 0.         0.\n",
            "  0.         0.         0.         0.         0.         0.\n",
            "  0.         0.         0.         0.         0.52156866 0.654902\n",
            "  0.28627452 0.         0.         0.        ]]\n"
          ]
        },
        {
          "data": {
            "image/png": "[encoded data removed]",
            "text/plain": [
              "<Figure size 640x480 with 1 Axes>"
            ]
          },
          "metadata": {},
          "output_type": "display_data"
        }
      ],
      "source": [
        "import matplotlib.pyplot as plt\n",
        "\n",
        "# Reshape the image data to 28x28\n",
        "image_to_show = train_images[5].reshape(28, 28)\n",
        "\n",
        "# Print the numeric array\n",
        "print(\"Array shape:\", image_to_show.shape)\n",
        "print(image_to_show)\n",
        "\n",
        "# Visualize the image\n",
        "plt.imshow(image_to_show, cmap='gray')\n",
        "plt.title(f\"Label: {train_labels[5]}\")\n",
        "plt.axis('off')\n",
        "plt.show()"
      ]
    },
    {
      "cell_type": "code",
      "execution_count": 13,
      "metadata": {
        "colab": {
          "base_uri": "https://localhost:8080/"
        },
        "id": "TcEtxASzIi8d",
        "outputId": "d56db58c-6de5-4348-c837-cdcd9de3896f"
      },
      "outputs": [
        {
          "data": {
            "text/plain": [
              "2"
            ]
          },
          "execution_count": 13,
          "metadata": {},
          "output_type": "execute_result"
        }
      ],
      "source": [
        "train_labels[5]"
      ]
    },
    {
      "cell_type": "code",
      "execution_count": 14,
      "metadata": {
        "id": "nnXbG6wNJBgr"
      },
      "outputs": [],
      "source": [
        "saving.save_model(model, 'fashion_mnist_mlp.keras')  "
      ]
    },
    {
      "cell_type": "code",
      "execution_count": null,
      "metadata": {},
      "outputs": [],
      "source": []
    }
  ],
  "metadata": {
    "colab": {
      "provenance": []
    },
    "kernelspec": {
      "display_name": "base",
      "language": "python",
      "name": "python3"
    },
    "language_info": {
      "codemirror_mode": {
        "name": "ipython",
        "version": 3
      },
      "file_extension": ".py",
      "mimetype": "text/x-python",
      "name": "python",
      "nbconvert_exporter": "python",
      "pygments_lexer": "ipython3",
      "version": "3.11.7"
    }
  },
  "nbformat": 4,
  "nbformat_minor": 0
}
